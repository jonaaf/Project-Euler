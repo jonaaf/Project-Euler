{
 "cells": [
  {
   "cell_type": "markdown",
   "metadata": {},
   "source": [
    "## Project Euler - Problem 179 - Consecutive positive divisors "
   ]
  },
  {
   "cell_type": "markdown",
   "metadata": {},
   "source": [
    "More info at: https://projecteuler.net/problem=179\n",
    "\n",
    "Find the number of integers $1 < n < 10^7$, for which $n$ and $n + 1$ have the same number of positive divisors. For example, 14 has the positive divisors 1, 2, 7, 14 while 15 has 1, 3, 5, 15."
   ]
  },
  {
   "cell_type": "code",
   "execution_count": 1,
   "metadata": {},
   "outputs": [],
   "source": [
    "import numpy as np\n",
    "import pandas as pd\n",
    "import time as time"
   ]
  },
  {
   "cell_type": "markdown",
   "metadata": {
    "tags": []
   },
   "source": [
    "### Different prime numbers generators"
   ]
  },
  {
   "cell_type": "code",
   "execution_count": 40,
   "metadata": {},
   "outputs": [],
   "source": [
    "def prime_numbers_generator_1(n):\n",
    "    primes = [2]\n",
    "    for i in range(2,n+1):\n",
    "        for e,p in enumerate(primes):\n",
    "            #print(i,'-',p)\n",
    "            #print(primes)\n",
    "            if i%p == 0:\n",
    "                #print('div-2')\n",
    "                break\n",
    "            elif e==len(primes)-1:\n",
    "                primes.append(i)\n",
    "                break\n",
    "    return primes"
   ]
  },
  {
   "cell_type": "code",
   "execution_count": 41,
   "metadata": {},
   "outputs": [],
   "source": [
    "def prime_numbers_generator_2(n):\n",
    "    primes = []\n",
    "    for i in range(2,n+1):\n",
    "        max_div = int(np.floor(np.sqrt(i)))\n",
    "        is_not_prime = 0\n",
    "        for p in range(2, max_div+1):\n",
    "            if i % p == 0:\n",
    "                is_not_prime += 1\n",
    "                break\n",
    "        if is_not_prime==0:\n",
    "            primes.append(i)\n",
    "    return primes"
   ]
  },
  {
   "cell_type": "code",
   "execution_count": 62,
   "metadata": {},
   "outputs": [],
   "source": [
    "def prime_numbers_generator_3(n):\n",
    "    primes = [2]\n",
    "    for i in range(2,n+1):\n",
    "        if i%2==0:\n",
    "            pass\n",
    "        else:\n",
    "            max_div = int(np.floor(np.sqrt(i)))\n",
    "            is_not_prime = 0\n",
    "            for p in range(2, max_div+1):\n",
    "                if i % p == 0:\n",
    "                    is_not_prime += 1\n",
    "                    break\n",
    "            if is_not_prime==0:\n",
    "                primes.append(i)\n",
    "    return primes"
   ]
  },
  {
   "cell_type": "code",
   "execution_count": 2,
   "metadata": {},
   "outputs": [],
   "source": [
    "# Sieve of Erastosthenes\n",
    "def prime_numbers_generator_4(n):\n",
    "      \n",
    "    # Create a boolean array \"prime[0..n]\" and initialize all entries it as true. A value in prime[i] will finally be false if i is\n",
    "    # not a prime, else true, At the very end we print all true entries.\n",
    "    prime = [True for i in range(n+1)]\n",
    "     \n",
    "    p = 2\n",
    "    while(p * p <= n): \n",
    "        # If prime[p] is not changed (i.e. True->False), then it is a prime\n",
    "        if (prime[p] == True):            \n",
    "            # Update all multiples of p\n",
    "            for i in range(p * p, n + 1, p):\n",
    "                prime[i] = False\n",
    "        p += 1\n",
    " \n",
    "    # Returning all prime numbers\n",
    "    primes = []\n",
    "    for p in range(2, n):\n",
    "        if prime[p]:\n",
    "            primes.append(p)\n",
    "    return primes"
   ]
  },
  {
   "cell_type": "code",
   "execution_count": 101,
   "metadata": {},
   "outputs": [],
   "source": [
    "n = int(10e4)"
   ]
  },
  {
   "cell_type": "code",
   "execution_count": 102,
   "metadata": {},
   "outputs": [
    {
     "name": "stdout",
     "output_type": "stream",
     "text": [
      "Generator 1: \n",
      " Time:  32.25 seconds   No. of primes:  9592\n"
     ]
    }
   ],
   "source": [
    "start_time = time.time()\n",
    "prime_list = prime_numbers_generator_1(n)\n",
    "end_time = time.time() - start_time\n",
    "print('Generator 1: \\n', 'Time: ', '{:.2f}'.format(end_time),'seconds  ', 'No. of primes: ', len(prime_list))"
   ]
  },
  {
   "cell_type": "code",
   "execution_count": 103,
   "metadata": {},
   "outputs": [
    {
     "name": "stdout",
     "output_type": "stream",
     "text": [
      "Generator 2: \n",
      " Time:  1.35 seconds   No. of primes:  9592\n"
     ]
    }
   ],
   "source": [
    "start_time = time.time()\n",
    "prime_list = prime_numbers_generator_2(n)\n",
    "end_time = time.time() - start_time\n",
    "print('Generator 2: \\n', 'Time: ', '{:.2f}'.format(end_time),'seconds  ', 'No. of primes: ', len(prime_list))"
   ]
  },
  {
   "cell_type": "code",
   "execution_count": 104,
   "metadata": {},
   "outputs": [
    {
     "name": "stdout",
     "output_type": "stream",
     "text": [
      "Generator 3: \n",
      " Time:  1.03 seconds   No. of primes:  9592\n"
     ]
    }
   ],
   "source": [
    "start_time = time.time()\n",
    "prime_list = prime_numbers_generator_3(n)\n",
    "end_time = time.time() - start_time\n",
    "print('Generator 3: \\n', 'Time: ', '{:.2f}'.format(end_time),'seconds  ', 'No. of primes: ', len(prime_list))"
   ]
  },
  {
   "cell_type": "code",
   "execution_count": 105,
   "metadata": {},
   "outputs": [
    {
     "name": "stdout",
     "output_type": "stream",
     "text": [
      "Generator 4: \n",
      " Time:  0.05 seconds   No. of primes:  9592\n"
     ]
    }
   ],
   "source": [
    "start_time = time.time()\n",
    "prime_list = prime_numbers_generator_4(n)\n",
    "end_time = time.time() - start_time\n",
    "print('Generator 4: \\n', 'Time: ', '{:.2f}'.format(end_time),'seconds  ', 'No. of primes: ', len(prime_list))"
   ]
  },
  {
   "cell_type": "markdown",
   "metadata": {},
   "source": [
    "### Actual problem"
   ]
  },
  {
   "cell_type": "code",
   "execution_count": 3,
   "metadata": {},
   "outputs": [],
   "source": [
    "def prime_factors_generator(n, prime_list):   \n",
    "    prime_factors = [[i,[],0] for i in range(1,n+1)]\n",
    "    for e,i in enumerate(range(1,n+1)):\n",
    "        while i>1:\n",
    "            for p in prime_list:\n",
    "                if i%p==0:\n",
    "                    prime_factors[e][1].append(p)\n",
    "                    i/=p\n",
    "                    break\n",
    "    return prime_factors"
   ]
  },
  {
   "cell_type": "code",
   "execution_count": null,
   "metadata": {},
   "outputs": [],
   "source": [
    "n = int(10e7)\n",
    "\n",
    "prime_list = prime_numbers_generator_4(n)\n",
    "\n",
    "prime_factors = prime_factors_generator(n, prime_list)\n",
    "\n",
    "# Counting the number of occurrences for each element of the set of prime factors and adding one for the number^0 possibility,\n",
    "# converting it then into an array and multiplying its elements to obtain the total number of positive divisors\n",
    "for i in prime_factors:\n",
    "    i[2] = (int(np.prod(np.array([1+i[1].count(x) for x in list(set(i[1]))]))))\n",
    "    \n",
    "df = pd.DataFrame(prime_factors, columns=['n','Prime_Factors','No._of_pos_divisors'])\n",
    "df['No._of_pos_divisors_shift'] = df['No._of_pos_divisors'].shift()\n",
    "df['Condition'] = np.where(df['No._of_pos_divisors'] == df['No._of_pos_divisors_shift'],1,0)\n",
    "df.head()"
   ]
  },
  {
   "cell_type": "code",
   "execution_count": 212,
   "metadata": {},
   "outputs": [
    {
     "name": "stdout",
     "output_type": "stream",
     "text": [
      "Result:  1119\n"
     ]
    }
   ],
   "source": [
    "print('Result: ', df['Condition'].sum())"
   ]
  },
  {
   "cell_type": "code",
   "execution_count": 16,
   "metadata": {},
   "outputs": [
    {
     "name": "stdout",
     "output_type": "stream",
     "text": [
      "100 -- 0.25\n",
      "1,000 -- 0.168\n",
      "10,000 -- 0.1229\n",
      "100,000 -- 0.09592\n",
      "1,000,000 -- 0.078498\n",
      "10,000,000 -- 0.0664579\n",
      "100,000,000 -- 0.05761455\n"
     ]
    }
   ],
   "source": [
    "for i in range(1,8):\n",
    "    prime_list = prime_numbers_generator_4(10**(i+1))\n",
    "    print('{:,}'.format(10**(i+1)), '--',len(prime_list)/(10**(i+1)))"
   ]
  },
  {
   "cell_type": "code",
   "execution_count": 34,
   "metadata": {},
   "outputs": [
    {
     "name": "stdout",
     "output_type": "stream",
     "text": [
      "Time:  0.00\n",
      "Time:  0.02\n",
      "Time:  0.43\n",
      "Time:  16.55\n"
     ]
    }
   ],
   "source": [
    "for i in range(1,5):\n",
    "    start = time.time()\n",
    "    prime_factors = prime_factors_generator(10**(i+1), prime_list)\n",
    "    end = time.time() - start\n",
    "    print('Time: ', '{:.2f}'.format(end))"
   ]
  },
  {
   "cell_type": "code",
   "execution_count": 24,
   "metadata": {},
   "outputs": [
    {
     "name": "stdout",
     "output_type": "stream",
     "text": [
      "[100000, [2, 2, 2, 2, 2, 5, 5, 5, 5, 5], 0]\n",
      "50000.0\n",
      "25000.0\n",
      "12500.0\n",
      "6250.0\n",
      "3125.0\n",
      "625.0\n",
      "125.0\n",
      "25.0\n",
      "5.0\n",
      "1.0\n"
     ]
    }
   ],
   "source": [
    "print(prime_factors[-1])\n",
    "num = 100000\n",
    "for i in prime_factors[-1][1]:\n",
    "    num/=i\n",
    "    print(num)"
   ]
  },
  {
   "cell_type": "code",
   "execution_count": 32,
   "metadata": {},
   "outputs": [],
   "source": [
    "prime_factors = prime_factors_generator(int(10e4), prime_list)"
   ]
  },
  {
   "cell_type": "code",
   "execution_count": 45,
   "metadata": {},
   "outputs": [],
   "source": [
    "n = 20\n",
    "divisors = [[x,[]] for x in range(1,n+1)]\n",
    "for e,i in enumerate(range(1,n+1)):\n",
    "    for d in range(2,int(np.ceil(np.sqrt(i)))):\n",
    "        if i%d==0:\n",
    "            divisors[e][1].append(d)"
   ]
  },
  {
   "cell_type": "code",
   "execution_count": 46,
   "metadata": {},
   "outputs": [
    {
     "data": {
      "text/plain": [
       "[[1, []],\n",
       " [2, []],\n",
       " [3, []],\n",
       " [4, []],\n",
       " [5, []],\n",
       " [6, [2]],\n",
       " [7, []],\n",
       " [8, [2]],\n",
       " [9, []],\n",
       " [10, [2]],\n",
       " [11, []],\n",
       " [12, [2, 3]],\n",
       " [13, []],\n",
       " [14, [2]],\n",
       " [15, [3]],\n",
       " [16, [2]],\n",
       " [17, []],\n",
       " [18, [2, 3]],\n",
       " [19, []],\n",
       " [20, [2, 4]]]"
      ]
     },
     "execution_count": 46,
     "metadata": {},
     "output_type": "execute_result"
    }
   ],
   "source": [
    "divisors"
   ]
  }
 ],
 "metadata": {
  "kernelspec": {
   "display_name": "Python 3 (ipykernel)",
   "language": "python",
   "name": "python3"
  },
  "language_info": {
   "codemirror_mode": {
    "name": "ipython",
    "version": 3
   },
   "file_extension": ".py",
   "mimetype": "text/x-python",
   "name": "python",
   "nbconvert_exporter": "python",
   "pygments_lexer": "ipython3",
   "version": "3.9.7"
  }
 },
 "nbformat": 4,
 "nbformat_minor": 4
}
