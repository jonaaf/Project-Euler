{
 "cells": [
  {
   "cell_type": "markdown",
   "metadata": {},
   "source": [
    "## Project Euler - Problem 187 - Semiprimes"
   ]
  },
  {
   "cell_type": "markdown",
   "metadata": {},
   "source": [
    "More info at: https://projecteuler.net/problem=187"
   ]
  },
  {
   "cell_type": "markdown",
   "metadata": {},
   "source": [
    "A composite is a number containing at least two prime factors. For example, $15 = 3 × 5; 9 = 3 × 3; 12 = 2 × 2 × 3.$\n",
    "\n",
    "There are ten composites below thirty containing precisely two, not necessarily distinct, prime factors: $4, 6, 9, 10, 14, 15, 21, 22, 25, 26.$\n",
    "\n",
    "How many composite integers, $n < 10^8$, have precisely two, not necessarily distinct, prime factors?\n"
   ]
  },
  {
   "cell_type": "code",
   "execution_count": 110,
   "metadata": {},
   "outputs": [],
   "source": [
    "import numpy as np\n",
    "import pandas as pd\n",
    "import matplotlib.pyplot as plt\n",
    "import time as time"
   ]
  },
  {
   "cell_type": "code",
   "execution_count": 67,
   "metadata": {},
   "outputs": [],
   "source": [
    "# Sieve of Erastosthenes\n",
    "def prime_numbers_generator_4(n):\n",
    "      \n",
    "    # Create a boolean array \"prime[0..n]\" and initialize all entries it as true. A value in prime[i] will finally be false if i is\n",
    "    # not a prime, else true, At the very end we print all true entries.\n",
    "    prime = [True for i in range(n+1)]\n",
    "     \n",
    "    p = 2\n",
    "    while(p * p <= n): \n",
    "        # If prime[p] is not changed (i.e. True->False), then it is a prime\n",
    "        if (prime[p] == True):            \n",
    "            # Update all multiples of p\n",
    "            for i in range(p * p, n + 1, p):\n",
    "                prime[i] = False\n",
    "        p += 1\n",
    " \n",
    "    # Returning all prime numbers\n",
    "    primes = []\n",
    "    for p in range(2, n):\n",
    "        if prime[p]:\n",
    "            primes.append(p)\n",
    "    return primes"
   ]
  },
  {
   "cell_type": "code",
   "execution_count": 107,
   "metadata": {},
   "outputs": [],
   "source": [
    "def composites_generator(primes_list):\n",
    "    # Obtaining the index that will slice the prime until the value of n/2, we divide over two since the smallest prime is 2, that would \n",
    "    # mean that at maximum we can multiply n/2 * 2 to be equal or below n.\n",
    "    # This search could improve it's time complexity\n",
    "    index = 0\n",
    "    check = 0\n",
    "    while check==0:\n",
    "        if primes_list[index]<=n/2:\n",
    "            index+=1\n",
    "        else:\n",
    "            check+=1\n",
    "\n",
    "    # Obtaining the product regardless of the order of the factors in order to save redundant computations, e.g. 3*2 == 2*3\n",
    "    composites = []\n",
    "    primes_list = primes_list[0:index]\n",
    "    for e,p in enumerate(primes_list):\n",
    "        for p2 in primes_list[e+1:]:\n",
    "            if p*p2<=n:\n",
    "                composites.append(p*p2)\n",
    "\n",
    "    # Appending the squares below the threshold n\n",
    "    index = 0\n",
    "    while primes_list[index]**2<=n:\n",
    "        composites.append(primes_list[index]**2)\n",
    "        index+=1\n",
    "    \n",
    "    return composites"
   ]
  },
  {
   "cell_type": "code",
   "execution_count": 128,
   "metadata": {},
   "outputs": [],
   "source": [
    "#log =[[] for i in range(1,6)]\n",
    "log = []\n",
    "for e,n in enumerate([int(10**(x+1)) for x in range(1,6)]):\n",
    "    #n = int(10e4)\n",
    "    start = time.time() \n",
    "    primes_list = prime_numbers_generator_4(n)\n",
    "    prime_generator_time = time.time()-start\n",
    "    \n",
    "    start = time.time()\n",
    "    composites = composites_generator(primes_list)\n",
    "    composites_generator_time = time.time()-start\n",
    "    \n",
    "    #log[e].append([n,prime_generator_time, composites_generator_time,(prime_generator_time+composites_generator_time)])\n",
    "    log.append([n,prime_generator_time, composites_generator_time,(prime_generator_time+composites_generator_time)])"
   ]
  },
  {
   "cell_type": "code",
   "execution_count": 129,
   "metadata": {},
   "outputs": [
    {
     "data": {
      "text/plain": [
       "[[100, 0.0010302066802978516, 0.0029876232147216797, 0.004017829895019531],\n",
       " [1000, 0.0, 0.0009980201721191406, 0.0009980201721191406],\n",
       " [10000, 0.000997781753540039, 0.030889511108398438, 0.03188729286193848],\n",
       " [100000, 0.03390979766845703, 0.8250501155853271, 0.8589599132537842],\n",
       " [1000000, 0.1784956455230713, 53.94274020195007, 54.121235847473145]]"
      ]
     },
     "execution_count": 129,
     "metadata": {},
     "output_type": "execute_result"
    }
   ],
   "source": [
    "log"
   ]
  },
  {
   "cell_type": "code",
   "execution_count": 103,
   "metadata": {},
   "outputs": [
    {
     "data": {
      "text/plain": [
       "0.3333333333333333"
      ]
     },
     "execution_count": 103,
     "metadata": {},
     "output_type": "execute_result"
    }
   ],
   "source": [
    "# n=30\n",
    "10/30"
   ]
  },
  {
   "cell_type": "code",
   "execution_count": 104,
   "metadata": {},
   "outputs": [
    {
     "data": {
      "text/plain": [
       "0.23378"
      ]
     },
     "execution_count": 104,
     "metadata": {},
     "output_type": "execute_result"
    }
   ],
   "source": [
    "# n=10e4\n",
    "23378/10e4"
   ]
  },
  {
   "cell_type": "code",
   "execution_count": 130,
   "metadata": {},
   "outputs": [
    {
     "data": {
      "text/plain": [
       "26.709717505402903"
      ]
     },
     "execution_count": 130,
     "metadata": {},
     "output_type": "execute_result"
    }
   ],
   "source": [
    "0.8250501155853271/0.030889511108398438"
   ]
  },
  {
   "cell_type": "code",
   "execution_count": 131,
   "metadata": {},
   "outputs": [
    {
     "data": {
      "text/plain": [
       "65.38116798357237"
      ]
     },
     "execution_count": 131,
     "metadata": {},
     "output_type": "execute_result"
    }
   ],
   "source": [
    "53.94274020195007/0.8250501155853271"
   ]
  }
 ],
 "metadata": {
  "kernelspec": {
   "display_name": "Python 3 (ipykernel)",
   "language": "python",
   "name": "python3"
  },
  "language_info": {
   "codemirror_mode": {
    "name": "ipython",
    "version": 3
   },
   "file_extension": ".py",
   "mimetype": "text/x-python",
   "name": "python",
   "nbconvert_exporter": "python",
   "pygments_lexer": "ipython3",
   "version": "3.9.7"
  }
 },
 "nbformat": 4,
 "nbformat_minor": 4
}
