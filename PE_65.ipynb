{
 "cells": [
  {
   "cell_type": "markdown",
   "id": "9de03ba6-04d1-44a6-b15c-28399ec42ca7",
   "metadata": {},
   "source": [
    "## Project Euler - Problem 65 - Convergents of e"
   ]
  },
  {
   "cell_type": "markdown",
   "id": "47444ebb-5fcc-46f2-934d-d11c8c84c966",
   "metadata": {},
   "source": [
    "More info at: https://projecteuler.net/problem=65"
   ]
  },
  {
   "cell_type": "markdown",
   "id": "6de92b62-18eb-4e53-b1c7-f8f9cc790d0b",
   "metadata": {
    "tags": []
   },
   "source": [
    "#### Convergents for $\\sqrt{2}$"
   ]
  },
  {
   "cell_type": "code",
   "execution_count": 1,
   "id": "c14ad363-3c04-4e4e-bf32-6f2b35ca49fe",
   "metadata": {},
   "outputs": [],
   "source": [
    "from fractions import Fraction"
   ]
  },
  {
   "cell_type": "code",
   "execution_count": 2,
   "id": "d73c9621-6be2-42c6-9505-5a1e1d7c8aae",
   "metadata": {},
   "outputs": [],
   "source": [
    "def create_convergent_sqrt2(n_convergent):\n",
    "    counter = n_convergent\n",
    "    counter_original = n_convergent\n",
    "    while counter>0:\n",
    "        if counter==counter_original:\n",
    "            curr_num = 2+(1/2)\n",
    "        else:\n",
    "            curr_num = 2+(1/curr_num)\n",
    "        counter -= 1\n",
    "    curr_num = 1+(1/curr_num)\n",
    "    # print(Fraction(curr_num).limit_denominator())\n",
    "    return str(Fraction(curr_num).limit_denominator())"
   ]
  },
  {
   "cell_type": "code",
   "execution_count": 3,
   "id": "ef77d5c7-1557-4aab-86a5-64efb7cf14c1",
   "metadata": {},
   "outputs": [],
   "source": [
    "def create_list_of_convergents_sqrt2(n_convergents):\n",
    "    convergents_sqrt2 = []\n",
    "    for i in range(0,n_convergents):\n",
    "        # Special cases:\n",
    "        if i == 0:\n",
    "            convergent = 1\n",
    "        elif i == 1:\n",
    "            convergent = str(Fraction(1+(1/2)).limit_denominator())\n",
    "        # Normal cases after n=2\n",
    "        else:\n",
    "            convergent = create_convergent_sqrt2(i-1)\n",
    "        convergents_sqrt2.append(convergent)\n",
    "    return convergents_sqrt2"
   ]
  },
  {
   "cell_type": "code",
   "execution_count": 4,
   "id": "a1496a67-c1ee-4d66-b22b-b9690eb595f7",
   "metadata": {},
   "outputs": [
    {
     "data": {
      "text/plain": [
       "[1,\n",
       " '3/2',\n",
       " '7/5',\n",
       " '17/12',\n",
       " '41/29',\n",
       " '99/70',\n",
       " '239/169',\n",
       " '577/408',\n",
       " '1393/985',\n",
       " '3363/2378',\n",
       " '8119/5741',\n",
       " '19601/13860',\n",
       " '47321/33461',\n",
       " '114243/80782',\n",
       " '275807/195025']"
      ]
     },
     "execution_count": 4,
     "metadata": {},
     "output_type": "execute_result"
    }
   ],
   "source": [
    "create_list_of_convergents_sqrt2(15)"
   ]
  },
  {
   "cell_type": "markdown",
   "id": "057b998d-e6ba-4962-be9d-6dc1178b1ba2",
   "metadata": {},
   "source": [
    "#### Convergents for $e$"
   ]
  },
  {
   "cell_type": "code",
   "execution_count": 5,
   "id": "9228f4e5-5c74-46d2-85b0-db12508511c9",
   "metadata": {},
   "outputs": [],
   "source": [
    "def create_convergent_e(n_convergent,nums):\n",
    "    nums_temp = nums[0:n_convergent]\n",
    "    iterations = len(nums_temp)\n",
    "    i=1\n",
    "    while i<iterations:\n",
    "        # Initialising at the root operation:\n",
    "        if i==1:\n",
    "            curr_num = nums_temp[(-i-1)]+(1/nums_temp[-i])\n",
    "        # \"Climbing upwards in the fractional ladder\"\n",
    "        else:\n",
    "            curr_num = nums_temp[(-i-1)]+(1/curr_num)\n",
    "        i+=1\n",
    "    curr_num = 2+(1/curr_num)\n",
    "    return str(Fraction(curr_num).limit_denominator()),curr_num\n",
    "    #return str(Fraction(curr_num))"
   ]
  },
  {
   "cell_type": "code",
   "execution_count": 6,
   "id": "5967fdd3-84ac-4028-a7b4-b2a495b6ba10",
   "metadata": {},
   "outputs": [],
   "source": [
    "def create_list_of_convergents_e(n_convergents):\n",
    "    # Creating the list as displayed on the problem statement\n",
    "    nums = [int((i/3)*2) if i%3==0 else 1 for i in range(1,(n_convergents+1))][1:]\n",
    "    convergents_e = []\n",
    "    for i in range(0,n_convergents):\n",
    "        # Special cases:\n",
    "        if i==0:\n",
    "            convergent = 2\n",
    "        elif i==1:\n",
    "            convergent = 3\n",
    "        else:\n",
    "            convergent = create_convergent_e(i,nums)\n",
    "        convergents_e.append(convergent)\n",
    "    return convergents_e"
   ]
  },
  {
   "cell_type": "code",
   "execution_count": 9,
   "id": "3a70dcc0-35c5-4544-a6ce-e9c6f2c45cb1",
   "metadata": {},
   "outputs": [
    {
     "data": {
      "text/plain": [
       "[2,\n",
       " 3,\n",
       " ('8/3', 2.6666666666666665),\n",
       " ('11/4', 2.75),\n",
       " ('19/7', 2.7142857142857144),\n",
       " ('87/32', 2.71875),\n",
       " ('106/39', 2.717948717948718),\n",
       " ('193/71', 2.7183098591549295),\n",
       " ('1264/465', 2.718279569892473),\n",
       " ('1457/536', 2.718283582089552),\n",
       " ('2721/1001', 2.7182817182817183),\n",
       " ('23225/8544', 2.7182818352059925),\n",
       " ('25946/9545', 2.7182818229439496),\n",
       " ('49171/18089', 2.718281828735696),\n",
       " ('517656/190435', 2.7182818284454013),\n",
       " ('566827/208524', 2.718281828470584),\n",
       " ('1084483/398959', 2.7182818284585633),\n",
       " ('1084483/398959', 2.718281828459065),\n",
       " ('1084483/398959', 2.7182818284590278),\n",
       " ('1084483/398959', 2.718281828459046)]"
      ]
     },
     "execution_count": 9,
     "metadata": {},
     "output_type": "execute_result"
    }
   ],
   "source": [
    "n_convergents = 20\n",
    "list_of_convergents = create_list_of_convergents_e(n_convergents)\n",
    "list_of_convergents"
   ]
  },
  {
   "cell_type": "code",
   "execution_count": 10,
   "id": "09f2628a-886d-4872-92a9-9f4568ff00be",
   "metadata": {},
   "outputs": [
    {
     "name": "stdout",
     "output_type": "stream",
     "text": [
      "Sum of digits for the 20th convergent of e: 28\n"
     ]
    }
   ],
   "source": [
    "answer = sum([int(i) for i in str(list_of_convergents[-1][0].split('/')[0])])\n",
    "print(f'Sum of digits for the {n_convergents}th convergent of e: {answer}')"
   ]
  },
  {
   "cell_type": "markdown",
   "id": "579df84c-63e4-4bd4-9977-3f4a58bd36e9",
   "metadata": {},
   "source": [
    "Have to look for correction in precision of both the float and the fraction, since after the 16th convergent the precision is lost and the fraction is all the same."
   ]
  },
  {
   "cell_type": "markdown",
   "id": "81cf9996-5a29-4a2e-8d94-469cacb564d5",
   "metadata": {},
   "source": [
    "Alternatively we can take advantage of the formula given to calculate the numerator:\n",
    "\n",
    "$numerator_i=numerator_{i−1} * fraction_{i−1} + numerator_{i−2}$"
   ]
  },
  {
   "cell_type": "code",
   "execution_count": 11,
   "id": "440cf211-571a-41a0-bc7a-96be1b508c40",
   "metadata": {},
   "outputs": [
    {
     "name": "stdout",
     "output_type": "stream",
     "text": [
      "Sum of digits for the 100th convergent of e: 272\n"
     ]
    }
   ],
   "source": [
    "numerators = [2,3]\n",
    "n_convergents = 100\n",
    "fractions = [int((i/3)*2) if i%3==0 else 1 for i in range(1,(n_convergents+1))][1:]\n",
    "\n",
    "for i in range(2,n_convergents):\n",
    "    numerator = numerators[i-1] * fractions[i-1] + numerators[i-2]\n",
    "    numerators.append(numerator)\n",
    "    \n",
    "answer = sum([int(i) for i in str(numerators[-1])])\n",
    "print(f'Sum of digits for the {n_convergents}th convergent of e: {answer}')"
   ]
  }
 ],
 "metadata": {
  "kernelspec": {
   "display_name": "Python 3 (ipykernel)",
   "language": "python",
   "name": "python3"
  },
  "language_info": {
   "codemirror_mode": {
    "name": "ipython",
    "version": 3
   },
   "file_extension": ".py",
   "mimetype": "text/x-python",
   "name": "python",
   "nbconvert_exporter": "python",
   "pygments_lexer": "ipython3",
   "version": "3.9.7"
  }
 },
 "nbformat": 4,
 "nbformat_minor": 5
}
